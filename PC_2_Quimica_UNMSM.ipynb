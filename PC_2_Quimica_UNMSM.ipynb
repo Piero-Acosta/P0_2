{
  "nbformat": 4,
  "nbformat_minor": 0,
  "metadata": {
    "colab": {
      "provenance": [],
      "include_colab_link": true
    },
    "kernelspec": {
      "name": "python3",
      "display_name": "Python 3"
    },
    "language_info": {
      "name": "python"
    },
    "widgets": {
      "application/vnd.jupyter.widget-state+json": {
        "f534de799b644da78a26101835ae8196": {
          "model_module": "faerun-notebook",
          "model_name": "SmilesDrawerModel",
          "model_module_version": "^0.1.5",
          "state": {
            "_dom_classes": [],
            "_model_module": "faerun-notebook",
            "_model_module_version": "^0.1.5",
            "_model_name": "SmilesDrawerModel",
            "_view_count": null,
            "_view_module": "faerun-notebook",
            "_view_module_version": "^0.1.5",
            "_view_name": "SmilesDrawerView",
            "background": "#1e1e1e",
            "border": true,
            "layout": "IPY_MODEL_84fdd4dbf5294e09b28a6da52c6edb8b",
            "options": {
              "scale": 1.25
            },
            "output": "svg",
            "theme": "dark",
            "value": [
              [
                "Rxn",
                "CC=CC.O=O>>C(=O)=O.O"
              ]
            ]
          }
        },
        "84fdd4dbf5294e09b28a6da52c6edb8b": {
          "model_module": "@jupyter-widgets/base",
          "model_name": "LayoutModel",
          "model_module_version": "1.2.0",
          "state": {
            "_model_module": "@jupyter-widgets/base",
            "_model_module_version": "1.2.0",
            "_model_name": "LayoutModel",
            "_view_count": null,
            "_view_module": "@jupyter-widgets/base",
            "_view_module_version": "1.2.0",
            "_view_name": "LayoutView",
            "align_content": null,
            "align_items": null,
            "align_self": null,
            "border": null,
            "bottom": null,
            "display": null,
            "flex": null,
            "flex_flow": null,
            "grid_area": null,
            "grid_auto_columns": null,
            "grid_auto_flow": null,
            "grid_auto_rows": null,
            "grid_column": null,
            "grid_gap": null,
            "grid_row": null,
            "grid_template_areas": null,
            "grid_template_columns": null,
            "grid_template_rows": null,
            "height": null,
            "justify_content": null,
            "justify_items": null,
            "left": null,
            "margin": null,
            "max_height": null,
            "max_width": null,
            "min_height": null,
            "min_width": null,
            "object_fit": null,
            "object_position": null,
            "order": null,
            "overflow": null,
            "overflow_x": null,
            "overflow_y": null,
            "padding": null,
            "right": null,
            "top": null,
            "visibility": null,
            "width": null
          }
        }
      }
    }
  },
  "cells": [
    {
      "cell_type": "markdown",
      "metadata": {
        "id": "view-in-github",
        "colab_type": "text"
      },
      "source": [
        "<a href=\"https://colab.research.google.com/github/Piero-Acosta/PC_02/blob/main/PC_2_Quimica_UNMSM.ipynb\" target=\"_parent\"><img src=\"https://colab.research.google.com/assets/colab-badge.svg\" alt=\"Open In Colab\"/></a>"
      ]
    },
    {
      "cell_type": "markdown",
      "source": [
        "$$\\Large \\textit{UNMSM | Química}$$\n",
        "$$\\large \\textbf{PC Nº2 | Materia y clasificación}$$\n",
        "\n",
        "_Profesor: Jesus Alvarado Huayhuaz_"
      ],
      "metadata": {
        "id": "sDJAjbaQOj4x"
      }
    },
    {
      "cell_type": "markdown",
      "source": [
        "Todas las indicaciones para la presentación de la práctica son explicadas en clase y brindadas en el material de enunciado de preguntas en formato PDF."
      ],
      "metadata": {
        "id": "_DsTzWLoP7Fy"
      }
    },
    {
      "cell_type": "markdown",
      "source": [
        "## Pregunta 1: DataFrames y listas en python (4 puntos)"
      ],
      "metadata": {
        "id": "obD7c2igOD6t"
      }
    },
    {
      "cell_type": "markdown",
      "source": [
        "Usando PeriodicTable, crea una tabla con 20 elementos químicos y en las columnas considera: nombre, simbolo, masa_atomica, numero_atomico\ty valencias. Puedes ayudarte del siguiente [material](https://github.com/inefable12/UNMSM_quimica_2023/blob/main/Python_para_quimica_2023.ipynb)."
      ],
      "metadata": {
        "id": "gV4WKDa72eez"
      }
    },
    {
      "cell_type": "code",
      "source": [
        "!pip install rdkit\n",
        "!pip install PeriodicTable"
      ],
      "metadata": {
        "id": "p7FFWQI8LnM8"
      },
      "execution_count": null,
      "outputs": []
    },
    {
      "cell_type": "code",
      "source": [
        "# ¿Qué es PeriodicTable?\n",
        "help(PeriodicTable)"
      ],
      "metadata": {
        "id": "cleXuwyGL14z"
      },
      "execution_count": null,
      "outputs": []
    },
    {
      "cell_type": "code",
      "source": [
        "from rdkit import Chem\n",
        "\n",
        "PeriodicTable = Chem.GetPeriodicTable()\n",
        "\n",
        "# Podemos generar una lista de elementos\n",
        "\n",
        "element_symbols = []\n",
        "\n",
        "for i in range(1,21):\n",
        "  element_symbols.append(PeriodicTable.GetElementSymbol(i))\n",
        "\n",
        "\n",
        "#Imprimimos la lista generada\n",
        "element_symbols\n",
        "\n",
        "# Guardemos estas informaciones en listas\n",
        "numero_atomico = [PeriodicTable.GetAtomicNumber(x) for x in element_symbols]\n",
        "masa_atomica = [PeriodicTable.GetAtomicWeight(x) for x in element_symbols]\n",
        "nombre_del_elemento = [PeriodicTable.GetElementName(x) for x in range(1,21)]\n",
        "valencias = [PeriodicTable.GetValenceList(x) for x in range(1,21)]\n",
        "\n",
        "import pandas as pd\n",
        "\n",
        "data = {'nombre': nombre_del_elemento, 'simbolo': element_symbols,\n",
        "        'masa_atomica': masa_atomica, 'numero_atomico': numero_atomico,\n",
        "        'valencias': valencias}\n",
        "df = pd.DataFrame(data)\n",
        "df"
      ],
      "metadata": {
        "id": "-WkCBrVCLn1M",
        "outputId": "6af04b89-eab7-4a4d-dbb8-8cb5ed452caa",
        "colab": {
          "base_uri": "https://localhost:8080/",
          "height": 676
        }
      },
      "execution_count": 2,
      "outputs": [
        {
          "output_type": "execute_result",
          "data": {
            "text/plain": [
              "        nombre simbolo  masa_atomica  numero_atomico  valencias\n",
              "0     Hydrogen       H         1.008               1        [1]\n",
              "1       Helium      He         4.003               2        [0]\n",
              "2      Lithium      Li         6.941               3    [1, -1]\n",
              "3    Beryllium      Be         9.012               4        [2]\n",
              "4        Boron       B        10.812               5        [3]\n",
              "5       Carbon       C        12.011               6        [4]\n",
              "6     Nitrogen       N        14.007               7        [3]\n",
              "7       Oxygen       O        15.999               8        [2]\n",
              "8     Fluorine       F        18.998               9        [1]\n",
              "9         Neon      Ne        20.180              10        [0]\n",
              "10      Sodium      Na        22.990              11    [1, -1]\n",
              "11   Magnesium      Mg        24.305              12    [2, -1]\n",
              "12   Aluminium      Al        26.982              13     [3, 6]\n",
              "13     Silicon      Si        28.086              14     [4, 6]\n",
              "14  Phosphorus       P        30.974              15  [3, 5, 7]\n",
              "15      Sulfur       S        32.067              16  [2, 4, 6]\n",
              "16    Chlorine      Cl        35.453              17        [1]\n",
              "17       Argon      Ar        39.948              18        [0]\n",
              "18   Potassium       K        39.098              19    [1, -1]\n",
              "19     Calcium      Ca        40.078              20    [2, -1]"
            ],
            "text/html": [
              "\n",
              "  <div id=\"df-299064f0-e67b-4cf7-b81a-1e26cd3eb00e\" class=\"colab-df-container\">\n",
              "    <div>\n",
              "<style scoped>\n",
              "    .dataframe tbody tr th:only-of-type {\n",
              "        vertical-align: middle;\n",
              "    }\n",
              "\n",
              "    .dataframe tbody tr th {\n",
              "        vertical-align: top;\n",
              "    }\n",
              "\n",
              "    .dataframe thead th {\n",
              "        text-align: right;\n",
              "    }\n",
              "</style>\n",
              "<table border=\"1\" class=\"dataframe\">\n",
              "  <thead>\n",
              "    <tr style=\"text-align: right;\">\n",
              "      <th></th>\n",
              "      <th>nombre</th>\n",
              "      <th>simbolo</th>\n",
              "      <th>masa_atomica</th>\n",
              "      <th>numero_atomico</th>\n",
              "      <th>valencias</th>\n",
              "    </tr>\n",
              "  </thead>\n",
              "  <tbody>\n",
              "    <tr>\n",
              "      <th>0</th>\n",
              "      <td>Hydrogen</td>\n",
              "      <td>H</td>\n",
              "      <td>1.008</td>\n",
              "      <td>1</td>\n",
              "      <td>[1]</td>\n",
              "    </tr>\n",
              "    <tr>\n",
              "      <th>1</th>\n",
              "      <td>Helium</td>\n",
              "      <td>He</td>\n",
              "      <td>4.003</td>\n",
              "      <td>2</td>\n",
              "      <td>[0]</td>\n",
              "    </tr>\n",
              "    <tr>\n",
              "      <th>2</th>\n",
              "      <td>Lithium</td>\n",
              "      <td>Li</td>\n",
              "      <td>6.941</td>\n",
              "      <td>3</td>\n",
              "      <td>[1, -1]</td>\n",
              "    </tr>\n",
              "    <tr>\n",
              "      <th>3</th>\n",
              "      <td>Beryllium</td>\n",
              "      <td>Be</td>\n",
              "      <td>9.012</td>\n",
              "      <td>4</td>\n",
              "      <td>[2]</td>\n",
              "    </tr>\n",
              "    <tr>\n",
              "      <th>4</th>\n",
              "      <td>Boron</td>\n",
              "      <td>B</td>\n",
              "      <td>10.812</td>\n",
              "      <td>5</td>\n",
              "      <td>[3]</td>\n",
              "    </tr>\n",
              "    <tr>\n",
              "      <th>5</th>\n",
              "      <td>Carbon</td>\n",
              "      <td>C</td>\n",
              "      <td>12.011</td>\n",
              "      <td>6</td>\n",
              "      <td>[4]</td>\n",
              "    </tr>\n",
              "    <tr>\n",
              "      <th>6</th>\n",
              "      <td>Nitrogen</td>\n",
              "      <td>N</td>\n",
              "      <td>14.007</td>\n",
              "      <td>7</td>\n",
              "      <td>[3]</td>\n",
              "    </tr>\n",
              "    <tr>\n",
              "      <th>7</th>\n",
              "      <td>Oxygen</td>\n",
              "      <td>O</td>\n",
              "      <td>15.999</td>\n",
              "      <td>8</td>\n",
              "      <td>[2]</td>\n",
              "    </tr>\n",
              "    <tr>\n",
              "      <th>8</th>\n",
              "      <td>Fluorine</td>\n",
              "      <td>F</td>\n",
              "      <td>18.998</td>\n",
              "      <td>9</td>\n",
              "      <td>[1]</td>\n",
              "    </tr>\n",
              "    <tr>\n",
              "      <th>9</th>\n",
              "      <td>Neon</td>\n",
              "      <td>Ne</td>\n",
              "      <td>20.180</td>\n",
              "      <td>10</td>\n",
              "      <td>[0]</td>\n",
              "    </tr>\n",
              "    <tr>\n",
              "      <th>10</th>\n",
              "      <td>Sodium</td>\n",
              "      <td>Na</td>\n",
              "      <td>22.990</td>\n",
              "      <td>11</td>\n",
              "      <td>[1, -1]</td>\n",
              "    </tr>\n",
              "    <tr>\n",
              "      <th>11</th>\n",
              "      <td>Magnesium</td>\n",
              "      <td>Mg</td>\n",
              "      <td>24.305</td>\n",
              "      <td>12</td>\n",
              "      <td>[2, -1]</td>\n",
              "    </tr>\n",
              "    <tr>\n",
              "      <th>12</th>\n",
              "      <td>Aluminium</td>\n",
              "      <td>Al</td>\n",
              "      <td>26.982</td>\n",
              "      <td>13</td>\n",
              "      <td>[3, 6]</td>\n",
              "    </tr>\n",
              "    <tr>\n",
              "      <th>13</th>\n",
              "      <td>Silicon</td>\n",
              "      <td>Si</td>\n",
              "      <td>28.086</td>\n",
              "      <td>14</td>\n",
              "      <td>[4, 6]</td>\n",
              "    </tr>\n",
              "    <tr>\n",
              "      <th>14</th>\n",
              "      <td>Phosphorus</td>\n",
              "      <td>P</td>\n",
              "      <td>30.974</td>\n",
              "      <td>15</td>\n",
              "      <td>[3, 5, 7]</td>\n",
              "    </tr>\n",
              "    <tr>\n",
              "      <th>15</th>\n",
              "      <td>Sulfur</td>\n",
              "      <td>S</td>\n",
              "      <td>32.067</td>\n",
              "      <td>16</td>\n",
              "      <td>[2, 4, 6]</td>\n",
              "    </tr>\n",
              "    <tr>\n",
              "      <th>16</th>\n",
              "      <td>Chlorine</td>\n",
              "      <td>Cl</td>\n",
              "      <td>35.453</td>\n",
              "      <td>17</td>\n",
              "      <td>[1]</td>\n",
              "    </tr>\n",
              "    <tr>\n",
              "      <th>17</th>\n",
              "      <td>Argon</td>\n",
              "      <td>Ar</td>\n",
              "      <td>39.948</td>\n",
              "      <td>18</td>\n",
              "      <td>[0]</td>\n",
              "    </tr>\n",
              "    <tr>\n",
              "      <th>18</th>\n",
              "      <td>Potassium</td>\n",
              "      <td>K</td>\n",
              "      <td>39.098</td>\n",
              "      <td>19</td>\n",
              "      <td>[1, -1]</td>\n",
              "    </tr>\n",
              "    <tr>\n",
              "      <th>19</th>\n",
              "      <td>Calcium</td>\n",
              "      <td>Ca</td>\n",
              "      <td>40.078</td>\n",
              "      <td>20</td>\n",
              "      <td>[2, -1]</td>\n",
              "    </tr>\n",
              "  </tbody>\n",
              "</table>\n",
              "</div>\n",
              "    <div class=\"colab-df-buttons\">\n",
              "\n",
              "  <div class=\"colab-df-container\">\n",
              "    <button class=\"colab-df-convert\" onclick=\"convertToInteractive('df-299064f0-e67b-4cf7-b81a-1e26cd3eb00e')\"\n",
              "            title=\"Convert this dataframe to an interactive table.\"\n",
              "            style=\"display:none;\">\n",
              "\n",
              "  <svg xmlns=\"http://www.w3.org/2000/svg\" height=\"24px\" viewBox=\"0 -960 960 960\">\n",
              "    <path d=\"M120-120v-720h720v720H120Zm60-500h600v-160H180v160Zm220 220h160v-160H400v160Zm0 220h160v-160H400v160ZM180-400h160v-160H180v160Zm440 0h160v-160H620v160ZM180-180h160v-160H180v160Zm440 0h160v-160H620v160Z\"/>\n",
              "  </svg>\n",
              "    </button>\n",
              "\n",
              "  <style>\n",
              "    .colab-df-container {\n",
              "      display:flex;\n",
              "      gap: 12px;\n",
              "    }\n",
              "\n",
              "    .colab-df-convert {\n",
              "      background-color: #E8F0FE;\n",
              "      border: none;\n",
              "      border-radius: 50%;\n",
              "      cursor: pointer;\n",
              "      display: none;\n",
              "      fill: #1967D2;\n",
              "      height: 32px;\n",
              "      padding: 0 0 0 0;\n",
              "      width: 32px;\n",
              "    }\n",
              "\n",
              "    .colab-df-convert:hover {\n",
              "      background-color: #E2EBFA;\n",
              "      box-shadow: 0px 1px 2px rgba(60, 64, 67, 0.3), 0px 1px 3px 1px rgba(60, 64, 67, 0.15);\n",
              "      fill: #174EA6;\n",
              "    }\n",
              "\n",
              "    .colab-df-buttons div {\n",
              "      margin-bottom: 4px;\n",
              "    }\n",
              "\n",
              "    [theme=dark] .colab-df-convert {\n",
              "      background-color: #3B4455;\n",
              "      fill: #D2E3FC;\n",
              "    }\n",
              "\n",
              "    [theme=dark] .colab-df-convert:hover {\n",
              "      background-color: #434B5C;\n",
              "      box-shadow: 0px 1px 3px 1px rgba(0, 0, 0, 0.15);\n",
              "      filter: drop-shadow(0px 1px 2px rgba(0, 0, 0, 0.3));\n",
              "      fill: #FFFFFF;\n",
              "    }\n",
              "  </style>\n",
              "\n",
              "    <script>\n",
              "      const buttonEl =\n",
              "        document.querySelector('#df-299064f0-e67b-4cf7-b81a-1e26cd3eb00e button.colab-df-convert');\n",
              "      buttonEl.style.display =\n",
              "        google.colab.kernel.accessAllowed ? 'block' : 'none';\n",
              "\n",
              "      async function convertToInteractive(key) {\n",
              "        const element = document.querySelector('#df-299064f0-e67b-4cf7-b81a-1e26cd3eb00e');\n",
              "        const dataTable =\n",
              "          await google.colab.kernel.invokeFunction('convertToInteractive',\n",
              "                                                    [key], {});\n",
              "        if (!dataTable) return;\n",
              "\n",
              "        const docLinkHtml = 'Like what you see? Visit the ' +\n",
              "          '<a target=\"_blank\" href=https://colab.research.google.com/notebooks/data_table.ipynb>data table notebook</a>'\n",
              "          + ' to learn more about interactive tables.';\n",
              "        element.innerHTML = '';\n",
              "        dataTable['output_type'] = 'display_data';\n",
              "        await google.colab.output.renderOutput(dataTable, element);\n",
              "        const docLink = document.createElement('div');\n",
              "        docLink.innerHTML = docLinkHtml;\n",
              "        element.appendChild(docLink);\n",
              "      }\n",
              "    </script>\n",
              "  </div>\n",
              "\n",
              "\n",
              "<div id=\"df-3e3be468-07e2-4c9a-9c77-5ca85382eeb1\">\n",
              "  <button class=\"colab-df-quickchart\" onclick=\"quickchart('df-3e3be468-07e2-4c9a-9c77-5ca85382eeb1')\"\n",
              "            title=\"Suggest charts\"\n",
              "            style=\"display:none;\">\n",
              "\n",
              "<svg xmlns=\"http://www.w3.org/2000/svg\" height=\"24px\"viewBox=\"0 0 24 24\"\n",
              "     width=\"24px\">\n",
              "    <g>\n",
              "        <path d=\"M19 3H5c-1.1 0-2 .9-2 2v14c0 1.1.9 2 2 2h14c1.1 0 2-.9 2-2V5c0-1.1-.9-2-2-2zM9 17H7v-7h2v7zm4 0h-2V7h2v10zm4 0h-2v-4h2v4z\"/>\n",
              "    </g>\n",
              "</svg>\n",
              "  </button>\n",
              "\n",
              "<style>\n",
              "  .colab-df-quickchart {\n",
              "      --bg-color: #E8F0FE;\n",
              "      --fill-color: #1967D2;\n",
              "      --hover-bg-color: #E2EBFA;\n",
              "      --hover-fill-color: #174EA6;\n",
              "      --disabled-fill-color: #AAA;\n",
              "      --disabled-bg-color: #DDD;\n",
              "  }\n",
              "\n",
              "  [theme=dark] .colab-df-quickchart {\n",
              "      --bg-color: #3B4455;\n",
              "      --fill-color: #D2E3FC;\n",
              "      --hover-bg-color: #434B5C;\n",
              "      --hover-fill-color: #FFFFFF;\n",
              "      --disabled-bg-color: #3B4455;\n",
              "      --disabled-fill-color: #666;\n",
              "  }\n",
              "\n",
              "  .colab-df-quickchart {\n",
              "    background-color: var(--bg-color);\n",
              "    border: none;\n",
              "    border-radius: 50%;\n",
              "    cursor: pointer;\n",
              "    display: none;\n",
              "    fill: var(--fill-color);\n",
              "    height: 32px;\n",
              "    padding: 0;\n",
              "    width: 32px;\n",
              "  }\n",
              "\n",
              "  .colab-df-quickchart:hover {\n",
              "    background-color: var(--hover-bg-color);\n",
              "    box-shadow: 0 1px 2px rgba(60, 64, 67, 0.3), 0 1px 3px 1px rgba(60, 64, 67, 0.15);\n",
              "    fill: var(--button-hover-fill-color);\n",
              "  }\n",
              "\n",
              "  .colab-df-quickchart-complete:disabled,\n",
              "  .colab-df-quickchart-complete:disabled:hover {\n",
              "    background-color: var(--disabled-bg-color);\n",
              "    fill: var(--disabled-fill-color);\n",
              "    box-shadow: none;\n",
              "  }\n",
              "\n",
              "  .colab-df-spinner {\n",
              "    border: 2px solid var(--fill-color);\n",
              "    border-color: transparent;\n",
              "    border-bottom-color: var(--fill-color);\n",
              "    animation:\n",
              "      spin 1s steps(1) infinite;\n",
              "  }\n",
              "\n",
              "  @keyframes spin {\n",
              "    0% {\n",
              "      border-color: transparent;\n",
              "      border-bottom-color: var(--fill-color);\n",
              "      border-left-color: var(--fill-color);\n",
              "    }\n",
              "    20% {\n",
              "      border-color: transparent;\n",
              "      border-left-color: var(--fill-color);\n",
              "      border-top-color: var(--fill-color);\n",
              "    }\n",
              "    30% {\n",
              "      border-color: transparent;\n",
              "      border-left-color: var(--fill-color);\n",
              "      border-top-color: var(--fill-color);\n",
              "      border-right-color: var(--fill-color);\n",
              "    }\n",
              "    40% {\n",
              "      border-color: transparent;\n",
              "      border-right-color: var(--fill-color);\n",
              "      border-top-color: var(--fill-color);\n",
              "    }\n",
              "    60% {\n",
              "      border-color: transparent;\n",
              "      border-right-color: var(--fill-color);\n",
              "    }\n",
              "    80% {\n",
              "      border-color: transparent;\n",
              "      border-right-color: var(--fill-color);\n",
              "      border-bottom-color: var(--fill-color);\n",
              "    }\n",
              "    90% {\n",
              "      border-color: transparent;\n",
              "      border-bottom-color: var(--fill-color);\n",
              "    }\n",
              "  }\n",
              "</style>\n",
              "\n",
              "  <script>\n",
              "    async function quickchart(key) {\n",
              "      const quickchartButtonEl =\n",
              "        document.querySelector('#' + key + ' button');\n",
              "      quickchartButtonEl.disabled = true;  // To prevent multiple clicks.\n",
              "      quickchartButtonEl.classList.add('colab-df-spinner');\n",
              "      try {\n",
              "        const charts = await google.colab.kernel.invokeFunction(\n",
              "            'suggestCharts', [key], {});\n",
              "      } catch (error) {\n",
              "        console.error('Error during call to suggestCharts:', error);\n",
              "      }\n",
              "      quickchartButtonEl.classList.remove('colab-df-spinner');\n",
              "      quickchartButtonEl.classList.add('colab-df-quickchart-complete');\n",
              "    }\n",
              "    (() => {\n",
              "      let quickchartButtonEl =\n",
              "        document.querySelector('#df-3e3be468-07e2-4c9a-9c77-5ca85382eeb1 button');\n",
              "      quickchartButtonEl.style.display =\n",
              "        google.colab.kernel.accessAllowed ? 'block' : 'none';\n",
              "    })();\n",
              "  </script>\n",
              "</div>\n",
              "    </div>\n",
              "  </div>\n"
            ]
          },
          "metadata": {},
          "execution_count": 2
        }
      ]
    },
    {
      "cell_type": "markdown",
      "source": [
        "## Pregunta 2: Configuración electrónica (4 puntos)"
      ],
      "metadata": {
        "id": "epzOadagLfPi"
      }
    },
    {
      "cell_type": "markdown",
      "source": [
        "Escribe un programa que lea el número atómico y me indique el número de electrones de valencia."
      ],
      "metadata": {
        "id": "MbAEOGPsjOWZ"
      }
    },
    {
      "cell_type": "code",
      "source": [
        "# Número de protones como input\n",
        "numero_atomico = int(input(\"ingresa el número de protones: \"))\n",
        "# Completa con tu código"
      ],
      "metadata": {
        "id": "gJGX0p5QLetj",
        "colab": {
          "base_uri": "https://localhost:8080/"
        },
        "outputId": "e2b2b2ed-fa22-415e-e508-ba07f0cf9009"
      },
      "execution_count": null,
      "outputs": [
        {
          "name": "stdout",
          "output_type": "stream",
          "text": [
            "ingresa el número de protones: 8\n"
          ]
        }
      ]
    },
    {
      "cell_type": "code",
      "source": [
        "def electrones_de_valencia(numero_atomico):\n",
        "    # Determinar el grupo al que pertenece el elemento\n",
        "    if 1 <= numero_atomico <= 2:\n",
        "        grupo = 1\n",
        "    elif 3 <= numero_atomico <= 18:\n",
        "        grupo = (numero_atomico - 3) // 8 + 2\n",
        "    else:\n",
        "        print(\"Número atómico fuera del rango válido.\")\n",
        "        return None\n",
        "\n",
        "    # Calcular el número de electrones de valencia\n",
        "    electrones_valencia = grupo if grupo <= 2 else grupo - 10\n",
        "\n",
        "    return electrones_valencia\n",
        "\n",
        "# Solicitar al usuario ingresar el número atómico\n",
        "try:\n",
        "    numero_atomico = int(input(\"Ingrese el número atómico: \"))\n",
        "    resultado = electrones_de_valencia(numero_atomico)\n",
        "\n",
        "    if resultado is not None:\n",
        "        print(f\"El número de electrones de valencia para el átomo con número atómico {numero_atomico} es: {resultado}\")\n",
        "except ValueError:\n",
        "    print(\"Por favor, ingrese un número entero válido.\")\n"
      ],
      "metadata": {
        "id": "BeEgvBqvMn4D",
        "outputId": "53c01236-431e-4e49-b738-265d95791a8b",
        "colab": {
          "base_uri": "https://localhost:8080/"
        }
      },
      "execution_count": 6,
      "outputs": [
        {
          "output_type": "stream",
          "name": "stdout",
          "text": [
            "Ingrese el número atómico: 7\n",
            "El número de electrones de valencia para el átomo con número atómico 7 es: 2\n"
          ]
        }
      ]
    },
    {
      "cell_type": "markdown",
      "source": [
        "# Pregunta 3: Molecularidad & compuestos covalentes (4 puntos)"
      ],
      "metadata": {
        "id": "8gxSHpD3LZsh"
      }
    },
    {
      "cell_type": "code",
      "source": [
        "#Código necesario para generar la imagen, no editar\n",
        "!pip install faerun-notebook==0.1.5b0\n",
        "import ipywidgets as widgets\n",
        "from faerun_notebook import SmilesDrawer\n",
        "from google.colab import output\n",
        "output.enable_custom_widget_manager()"
      ],
      "metadata": {
        "id": "JgF8Ohtbky65"
      },
      "execution_count": null,
      "outputs": []
    },
    {
      "cell_type": "markdown",
      "source": [
        "Balancea la siguiente reacción química y asigna todos los subíndices o moleculariedad."
      ],
      "metadata": {
        "id": "5sLC10D_oSrV"
      }
    },
    {
      "cell_type": "code",
      "source": [
        "SmilesDrawer(value=[(\"Rxn\", \"CC=CC.O=O>>C(=O)=O.O\")], theme='dark', background=\"#1e1e1e\", options={'scale': 1.25})"
      ],
      "metadata": {
        "colab": {
          "base_uri": "https://localhost:8080/",
          "height": 140,
          "referenced_widgets": [
            "f534de799b644da78a26101835ae8196",
            "84fdd4dbf5294e09b28a6da52c6edb8b"
          ]
        },
        "id": "CC0mAXWmnYyN",
        "outputId": "b6624783-f658-4c9b-f740-2c61a0083191"
      },
      "execution_count": null,
      "outputs": [
        {
          "output_type": "display_data",
          "data": {
            "text/plain": [
              "SmilesDrawer(background='#1e1e1e', options={'scale': 1.25}, theme='dark', value=[('Rxn', 'CC=CC.O=O>>C(=O)=O.O…"
            ],
            "application/vnd.jupyter.widget-view+json": {
              "version_major": 2,
              "version_minor": 0,
              "model_id": "f534de799b644da78a26101835ae8196"
            }
          },
          "metadata": {
            "application/vnd.jupyter.widget-view+json": {
              "colab": {
                "custom_widget_manager": {
                  "url": "https://ssl.gstatic.com/colaboratory-static/widgets/colab-cdn-widget-manager/b3e629b1971e1542/manager.min.js"
                }
              }
            }
          }
        }
      ]
    },
    {
      "cell_type": "markdown",
      "source": [
        "La ecuación de la imagen es la siguiente: C4 + O2 -> CO2 + H2O\n",
        "\n",
        "La ecuación balanceada es la siguiente: C4 + **4**O2 -> **4**CO2 + H2O"
      ],
      "metadata": {
        "id": "2QAi94ixUYQp"
      }
    },
    {
      "cell_type": "markdown",
      "source": [
        "## Pregunta 4: SMILES, RDKit y Open Babel (4 puntos)"
      ],
      "metadata": {
        "id": "Rh-nAUiKhJNB"
      }
    },
    {
      "cell_type": "markdown",
      "source": [
        "Colecta la representación SMILES de 10 fármacos usando RDKit y preoptimiza sus estructuras."
      ],
      "metadata": {
        "id": "NIkI45Xdqqnt"
      }
    },
    {
      "cell_type": "code",
      "source": [
        "!pip install rdkit"
      ],
      "metadata": {
        "id": "5OVZyx4PPajq",
        "outputId": "5278bd83-124d-42b6-f5d0-e42f3a48b006",
        "colab": {
          "base_uri": "https://localhost:8080/"
        }
      },
      "execution_count": 3,
      "outputs": [
        {
          "output_type": "stream",
          "name": "stdout",
          "text": [
            "Requirement already satisfied: rdkit in /usr/local/lib/python3.10/dist-packages (2023.9.2)\n",
            "Requirement already satisfied: numpy in /usr/local/lib/python3.10/dist-packages (from rdkit) (1.23.5)\n",
            "Requirement already satisfied: Pillow in /usr/local/lib/python3.10/dist-packages (from rdkit) (9.4.0)\n"
          ]
        }
      ]
    },
    {
      "cell_type": "code",
      "source": [
        "from rdkit import Chem\n",
        "from rdkit.Chem import Draw\n",
        "\n",
        "antiTBC = ['C[N+]1(CCCC1)CC2=C(N3C(C(C3=O)NC(=O)C(=NOC)C4=CSC(=N4)N)SC2)C(=O)[O-]','CC1(C(N2C(S1)C(C2=O)NC(=O)C(C3=CC=C(C=C3)O)N)C(=O)O)C',\n",
        "           'CON=C(C1=CC=CO1)C(=O)NC2C3N(C2=O)C(=C(CS3)COC(=O)N)C(=O)O','C[C@H]1[C@@H]([C@H]([C@H]([C@@H](O1)O[C@@H]2[C@H]([C@@H]([C@H](O[C@H]2OC3=CC(=C(C(=C3)O)C(=O)CCC4=CC(=C(C=C4)OC)O)O)CO)O)O)O)O)O',\n",
        "           'C1=CC(=C(C=C1C=CC(=O)C2=C(C=C(C=C2)O)O)O)O','C1C(ON=C1C2=CC=CC=C2)C3=CC=CC=C3','CC1(C=CC2=C(C(=C(C=C2O1)OC)C(=O)C=CC3=CC=C(C=C3)O)O)C',\n",
        "           'CC(=CCC1=C(C=CC(=C1O)C(=O)C=CC2=CC=C(C=C2)O)O)C','CC(C)(C=C)C1=C(C=C(C(=C1)C=CC(=O)C2=CC=C(C=C2)O)OC)O','C1=CC(=CC=C1C=CC(=O)C2=C(C=C(C=C2)O)O)O']\n",
        "mol_lista = []\n",
        "\n",
        "for i in antiTBC:\n",
        "  mol = Chem.MolFromSmiles(i)\n",
        "  mol_lista.append(mol)\n",
        "Draw.MolsToGridImage(mol_lista)"
      ],
      "metadata": {
        "id": "qAmXZ6oJQZLW",
        "outputId": "7db84d32-8814-4354-db30-cd230ca7747e",
        "colab": {
          "base_uri": "https://localhost:8080/",
          "height": 817
        }
      },
      "execution_count": 5,
      "outputs": [
        {
          "output_type": "execute_result",
          "data": {
            "image/png": "[encoded data removed]",
            "text/plain": [
              "<IPython.core.display.Image object>"
            ]
          },
          "metadata": {},
          "execution_count": 5
        }
      ]
    },
    {
      "cell_type": "markdown",
      "source": [
        "## Pregunta 5: Método científico (4 puntos)"
      ],
      "metadata": {
        "id": "CuzCcXJghR14"
      }
    },
    {
      "cell_type": "markdown",
      "source": [
        "Leer el artículo disponibilizado por el profesor y explica cómo es aplicado el método científico. Emplea como máximo 300 palabras."
      ],
      "metadata": {
        "id": "WngRSR-Rhmx1"
      }
    },
    {
      "cell_type": "markdown",
      "source": [
        "\n",
        "El método científico es una aproximación sistemática y empírica utilizada para investigar fenómenos naturales, formular preguntas, y obtener conocimiento confiable sobre el mundo. Comienza con la observación de un fenómeno y la formulación de una pregunta. A partir de esta pregunta, se establece una hipótesis que es una explicación tentativa del fenómeno. Luego, se diseñan experimentos controlados para recopilar datos que respalden o refuten la hipótesis. Los datos se analizan estadísticamente y se llega a conclusiones.\n",
        "\n",
        "Los resultados y conclusiones se presentan en informes científicos revisados por pares y, si es posible, se replican para verificar la validez de los resultados. Este proceso iterativo de observación, formulación de hipótesis, experimentación y análisis de datos contribuye al desarrollo del conocimiento científico. La objetividad, la reproducibilidad y la verificabilidad son elementos clave del método científico que aseguran la fiabilidad de los resultados y la construcción gradual de la comprensión científica."
      ],
      "metadata": {
        "id": "xlJpSJF7P8zd"
      }
    }
  ]
}